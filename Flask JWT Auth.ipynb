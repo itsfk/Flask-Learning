{
 "cells": [
  {
   "cell_type": "code",
   "execution_count": 1,
   "metadata": {},
   "outputs": [],
   "source": [
    "from flask import Flask,request"
   ]
  },
  {
   "cell_type": "code",
   "execution_count": 2,
   "metadata": {},
   "outputs": [],
   "source": [
    "from flask_restful import Resource,Api"
   ]
  },
  {
   "cell_type": "code",
   "execution_count": 3,
   "metadata": {},
   "outputs": [],
   "source": [
    "class User:\n",
    "    def __init__(self,_id,username,password):\n",
    "        self.id=_id\n",
    "        self.username = username\n",
    "        self.password =password"
   ]
  },
  {
   "cell_type": "code",
   "execution_count": 4,
   "metadata": {},
   "outputs": [],
   "source": [
    "users=[\n",
    "   User(1,'faiz','abc')\n",
    "]\n",
    "username_mapping ={u.username:u for u in users}\n",
    "userid_mapping = {u.id:u for u in users}\n",
    "def authenticate(username,password):\n",
    "    user = username_mapping.get(username,None)\n",
    "    if user and user.password == password:\n",
    "        return user\n",
    "def identity(payload):\n",
    "    user_id = payload['identity']\n",
    "    return userid_mapping.get(user_id,None)"
   ]
  },
  {
   "cell_type": "code",
   "execution_count": null,
   "metadata": {},
   "outputs": [
    {
     "name": "stderr",
     "output_type": "stream",
     "text": [
      " * Running on http://localhost:9000/ (Press CTRL+C to quit)\n",
      "127.0.0.1 - - [17/Jul/2018 21:04:52] \"\u001b[37mPOST /auth HTTP/1.1\u001b[0m\" 200 -\n",
      "127.0.0.1 - - [17/Jul/2018 21:05:02] \"\u001b[37mPOST /auth HTTP/1.1\u001b[0m\" 200 -\n",
      "127.0.0.1 - - [17/Jul/2018 21:05:15] \"\u001b[37mPOST /item/tv HTTP/1.1\u001b[0m\" 201 -\n",
      "127.0.0.1 - - [17/Jul/2018 21:05:30] \"\u001b[37mPOST /auth HTTP/1.1\u001b[0m\" 200 -\n",
      "127.0.0.1 - - [17/Jul/2018 21:06:18] \"\u001b[1m\u001b[31mPOST /items HTTP/1.1\u001b[0m\" 405 -\n",
      "127.0.0.1 - - [17/Jul/2018 21:06:33] \"\u001b[37mGET /items HTTP/1.1\u001b[0m\" 200 -\n",
      "127.0.0.1 - - [17/Jul/2018 21:06:43] \"\u001b[37mDELETE /item/tv HTTP/1.1\u001b[0m\" 200 -\n",
      "127.0.0.1 - - [17/Jul/2018 21:06:47] \"\u001b[37mGET /items HTTP/1.1\u001b[0m\" 200 -\n"
     ]
    }
   ],
   "source": [
    "from werkzeug.wrappers import Request, Response\n",
    "from flask_jwt import JWT,jwt_required\n",
    "\n",
    "app = Flask(__name__)\n",
    "app.secret_key = \"faiz\"\n",
    "api=Api(app)\n",
    "\n",
    "jwt = JWT(app,authenticate,identity)\n",
    "\n",
    "items=[]\n",
    "class Item(Resource):\n",
    "    @jwt_required()\n",
    "    def get(self,name):\n",
    "        item = next(filter(lambda x:x['name']==name,items),None)\n",
    "        return {\"item\":item},200 if item else 404\n",
    "    def post(self,name):\n",
    "        if next(filter(lambda x:x['name']==name,items),None):\n",
    "           return {'message':\"An item with name '{}' already exists\".format(name)},400 \n",
    "        data=request.get_json()\n",
    "        item={\"name\":name,\"price\":data['price']}\n",
    "        items.append(item)\n",
    "        return item,201\n",
    "    def delete(self,name):\n",
    "        global items\n",
    "        items=list(filter(lambda x:x['name']!=name,items))\n",
    "        return {\"message\":\"Item deleted\"}\n",
    "class ItemList(Resource):\n",
    "    def get(self):\n",
    "        return {\"items\":items}\n",
    "api.add_resource(Item,'/item/<string:name>')\n",
    "api.add_resource(ItemList,'/items')\n",
    "if __name__ == '__main__':\n",
    "    from werkzeug.serving import run_simple\n",
    "    run_simple('localhost', 9000, app)"
   ]
  },
  {
   "cell_type": "code",
   "execution_count": null,
   "metadata": {},
   "outputs": [],
   "source": []
  }
 ],
 "metadata": {
  "kernelspec": {
   "display_name": "Python 3",
   "language": "python",
   "name": "python3"
  },
  "language_info": {
   "codemirror_mode": {
    "name": "ipython",
    "version": 3
   },
   "file_extension": ".py",
   "mimetype": "text/x-python",
   "name": "python",
   "nbconvert_exporter": "python",
   "pygments_lexer": "ipython3",
   "version": "3.6.3"
  }
 },
 "nbformat": 4,
 "nbformat_minor": 2
}
