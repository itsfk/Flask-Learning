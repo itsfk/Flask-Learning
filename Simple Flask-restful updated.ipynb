{
 "cells": [
  {
   "cell_type": "code",
   "execution_count": 1,
   "metadata": {},
   "outputs": [],
   "source": [
    "from flask import Flask "
   ]
  },
  {
   "cell_type": "code",
   "execution_count": 2,
   "metadata": {},
   "outputs": [],
   "source": [
    "from flask_restful import Resource,Api"
   ]
  },
  {
   "cell_type": "code",
   "execution_count": null,
   "metadata": {},
   "outputs": [
    {
     "name": "stderr",
     "output_type": "stream",
     "text": [
      " * Running on http://localhost:9000/ (Press CTRL+C to quit)\n",
      "127.0.0.1 - - [16/Jul/2018 15:11:28] \"\u001b[37mGET /student/faiz HTTP/1.1\u001b[0m\" 200 -\n"
     ]
    }
   ],
   "source": [
    "from werkzeug.wrappers import Request, Response\n",
    "app = Flask(__name__)\n",
    "api=Api(app)\n",
    "items=[]\n",
    "class Item(Resource):\n",
    "    def get(self,name):\n",
    "        for item in items:\n",
    "            if item['name']==name:\n",
    "                return item\n",
    "        return {\"item\":None},404\n",
    "    def post(self,name):\n",
    "        data = request.get_json()\n",
    "        item ={'name':name,'price':data['price']}\n",
    "        items.append(item)\n",
    "        return item, 201\n",
    "class ItemList(Resource):\n",
    "    def get(self):\n",
    "        return {\"items\":items}\n",
    "api.add_resource(Item,'/item/<string:name>')\n",
    "api.add_resource(ItemList,'/items')\n",
    "if __name__ == '__main__':\n",
    "    from werkzeug.serving import run_simple\n",
    "    run_simple('localhost', 9000, app)"
   ]
  },
  {
   "cell_type": "code",
   "execution_count": null,
   "metadata": {},
   "outputs": [],
   "source": []
  }
 ],
 "metadata": {
  "kernelspec": {
   "display_name": "Python 3",
   "language": "python",
   "name": "python3"
  },
  "language_info": {
   "codemirror_mode": {
    "name": "ipython",
    "version": 3
   },
   "file_extension": ".py",
   "mimetype": "text/x-python",
   "name": "python",
   "nbconvert_exporter": "python",
   "pygments_lexer": "ipython3",
   "version": "3.6.3"
  }
 },
 "nbformat": 4,
 "nbformat_minor": 2
}
