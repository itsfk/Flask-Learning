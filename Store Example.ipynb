{
 "cells": [
  {
   "cell_type": "code",
   "execution_count": null,
   "metadata": {},
   "outputs": [
    {
     "name": "stderr",
     "output_type": "stream",
     "text": [
      " * Running on http://localhost:9000/ (Press CTRL+C to quit)\n",
      "127.0.0.1 - - [15/Jul/2018 21:21:08] \"\u001b[37mGET / HTTP/1.1\u001b[0m\" 200 -\n",
      "127.0.0.1 - - [15/Jul/2018 21:21:15] \"\u001b[37mGET /store HTTP/1.1\u001b[0m\" 200 -\n"
     ]
    }
   ],
   "source": [
    "from werkzeug.wrappers import Request, Response\n",
    "from flask import Flask,jsonify,request,render_template\n",
    "\n",
    "app = Flask(__name__)\n",
    "@app.route('/')\n",
    "def home():\n",
    "    return render_template('index.html')\n",
    "\n",
    "\n",
    "stores = [{\n",
    "    'name': 'My Store',\n",
    "    'items': [{'name':'my item', 'price': 15.99 }]\n",
    "}]\n",
    "\n",
    "\n",
    "@app.route(\"/store\",methods=['POST'])\n",
    "def create_store():\n",
    "    request_data = request.get_json()\n",
    "    new_store = {\n",
    "    'name':request_data['name'],\n",
    "    'items':[]\n",
    "  }\n",
    "    stores.append(new_store)\n",
    "    return jsonify(new_store)\n",
    "@app.route(\"/store/<string:name>\")\n",
    "def get_store(name):\n",
    "    for store in stores:\n",
    "         if store['name'] == name:\n",
    "            return jsonify(store)\n",
    "    return jsonify ({'message': 'store not found'})\n",
    "@app.route(\"/store\")\n",
    "def get_stores():\n",
    "    return jsonify({'stores': stores})\n",
    "@app.route(\"/store/<string:name>/item\",methods=['POST'])\n",
    "def create_item_in_store(name):\n",
    "    request_data = request.get_json()\n",
    "    for store in stores:\n",
    "        if store['name'] == name:\n",
    "            new_item = {\n",
    "            'name': request_data['name'],\n",
    "            'price': request_data['price']\n",
    "        }\n",
    "            store['items'].append(new_item)\n",
    "            return jsonify(new_item)\n",
    "    return jsonify ({'message' :'store not found'})\n",
    "@app.route(\"/store/<string:name>/item\")\n",
    "def get_items_in_store(name):\n",
    "    for store in stores:\n",
    "        if store['name'] == name:\n",
    "            return jsonify( {'items':store['items'] } )\n",
    "    return jsonify ({'message':'store not found'})\n",
    "\n",
    "if __name__ == '__main__':\n",
    "    from werkzeug.serving import run_simple\n",
    "    run_simple('localhost', 9000, app)"
   ]
  },
  {
   "cell_type": "code",
   "execution_count": null,
   "metadata": {},
   "outputs": [],
   "source": []
  },
  {
   "cell_type": "code",
   "execution_count": null,
   "metadata": {},
   "outputs": [],
   "source": []
  }
 ],
 "metadata": {
  "kernelspec": {
   "display_name": "Python 3",
   "language": "python",
   "name": "python3"
  },
  "language_info": {
   "codemirror_mode": {
    "name": "ipython",
    "version": 3
   },
   "file_extension": ".py",
   "mimetype": "text/x-python",
   "name": "python",
   "nbconvert_exporter": "python",
   "pygments_lexer": "ipython3",
   "version": "3.6.3"
  }
 },
 "nbformat": 4,
 "nbformat_minor": 2
}
